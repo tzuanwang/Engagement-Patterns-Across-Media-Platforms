﻿{
  "metadata": {
    "name": "imdb-emotion-analysis",
    "kernelspec": {
      "language": "scala",
      "name": "spark2-scala"
    },
    "language_info": {
      "codemirror_mode": "text/x-scala",
      "file_extension": ".scala",
      "mimetype": "text/x-scala",
      "name": "scala",
      "pygments_lexer": "scala"
    }
  },
  "nbformat": 4,
  "nbformat_minor": 2,
  "cells": [
    {
      "cell_type": "markdown",
      "metadata": {},
      "source": "## Load Data"
    },
    {
      "cell_type": "code",
      "execution_count": 1,
      "metadata": {
        "autoscroll": "auto"
      },
      "outputs": [],
      "source": "val basePath \u003d \"/user/yc7093_nyu_edu/imdb-reviews-w-emotion/part\"\nval fileSuffixes \u003d List(\"-01-all\") //, \"-02-all\", \"-03-all\", \"-04-all\")\n\nval initialPath \u003d s\"$basePath${fileSuffixes.head}\"\nvar rawDF \u003d spark.read.parquet(initialPath)\n\nfor (suffix \u003c- fileSuffixes.tail) {\n  val fullPath \u003d s\"$basePath$suffix\"\n  val part_df \u003d spark.read.parquet(fullPath)\n  rawDF \u003d rawDF.union(part_df) \n}\n\nrawDF.show(5)\n"
    },
    {
      "cell_type": "markdown",
      "metadata": {},
      "source": "## Rating Distribution"
    },
    {
      "cell_type": "code",
      "execution_count": 3,
      "metadata": {
        "autoscroll": "auto"
      },
      "outputs": [],
      "source": "val ratingDistribution \u003d rawDF.groupBy(\"rating\")\n  .count() \n  .orderBy(\"rating\")\n\nratingDistribution.show()\n"
    },
    {
      "cell_type": "code",
      "execution_count": 4,
      "metadata": {
        "autoscroll": "auto"
      },
      "outputs": [],
      "source": "val outputPath \u003d \"/user/yc7093_nyu_edu/imdb-emotion-analysis/rating-distribution\"\n\nratingDistribution.coalesce(1)\n  .write\n  .mode(\"overwrite\")\n  .option(\"header\", \"true\")\n  .csv(outputPath)"
    },
    {
      "cell_type": "markdown",
      "metadata": {},
      "source": "## Emotion Distribution"
    },
    {
      "cell_type": "code",
      "execution_count": 6,
      "metadata": {
        "autoscroll": "auto"
      },
      "outputs": [],
      "source": "\nval emotionDistribution \u003d rawDF.groupBy(\"emotion\")\n  .count()\n  .orderBy(\"emotion\")\n\nemotionDistribution.show()\n"
    },
    {
      "cell_type": "code",
      "execution_count": 7,
      "metadata": {
        "autoscroll": "auto"
      },
      "outputs": [],
      "source": "val outputPath \u003d \"/user/yc7093_nyu_edu/imdb-emotion-analysis/emotion-distribution\"\n\nemotionDistribution.coalesce(1)\n  .write\n  .mode(\"overwrite\")\n  .option(\"header\", \"true\")\n  .csv(outputPath)"
    },
    {
      "cell_type": "markdown",
      "metadata": {},
      "source": "## Ratings Distribution Within Emotion"
    },
    {
      "cell_type": "code",
      "execution_count": 9,
      "metadata": {
        "autoscroll": "auto"
      },
      "outputs": [],
      "source": "import org.apache.spark.sql.expressions.Window\nimport org.apache.spark.sql.functions._\n\nval emotionWindow \u003d Window.partitionBy(\"emotion\")\n\nval ratingDistributionWithinEmotion \u003d rawDF.groupBy(\"emotion\", \"rating\")\n  .count() \n  .withColumn(\"total_count\", sum(\"count\").over(emotionWindow))\n  .withColumn(\"percentage\", (col(\"count\") / col(\"total_count\")) * 100) \n  .orderBy(\"emotion\", \"rating\") \n\n\nval rowCount \u003d ratingDistributionWithinEmotion.count()\nratingDistributionWithinEmotion.show(rowCount.toInt, truncate \u003d false)\n\n"
    },
    {
      "cell_type": "code",
      "execution_count": 10,
      "metadata": {
        "autoscroll": "auto"
      },
      "outputs": [],
      "source": "val outputPath \u003d \"/user/yc7093_nyu_edu/imdb-emotion-analysis/rating-distribution-w-emotion\"\n\n\nratingDistributionWithinEmotion.coalesce(1)\n  .write\n  .mode(\"overwrite\")\n  .option(\"header\", \"true\")\n  .csv(outputPath)\n"
    },
    {
      "cell_type": "markdown",
      "metadata": {},
      "source": "## Emotion Distribution Within Ratings"
    },
    {
      "cell_type": "code",
      "execution_count": 12,
      "metadata": {
        "autoscroll": "auto"
      },
      "outputs": [],
      "source": "import org.apache.spark.sql.expressions.Window\nimport org.apache.spark.sql.functions._\n\nval ratingWindow \u003d Window.partitionBy(\"rating\")\n\nval emotionDistributionWithinRating \u003d rawDF.groupBy(\"rating\", \"emotion\")\n  .count() \n  .withColumn(\"total_count\", sum(\"count\").over(ratingWindow))\n  .withColumn(\"percentage\", (col(\"count\") / col(\"total_count\")) * 100) \n  .orderBy(\"rating\", \"emotion\") \n\nval rowCount \u003d emotionDistributionWithinRating.count()\nemotionDistributionWithinRating.show(rowCount.toInt, truncate \u003d false)\n\n\n"
    },
    {
      "cell_type": "code",
      "execution_count": 13,
      "metadata": {
        "autoscroll": "auto"
      },
      "outputs": [],
      "source": "val outputPath \u003d \"/user/yc7093_nyu_edu/imdb-emotion-analysis/emotion-distribution-w-rating\"\n\nemotionDistributionWithinRating.coalesce(1)\n  .write\n  .mode(\"overwrite\")\n  .option(\"header\", \"true\")\n  .csv(outputPath)\n"
    },
    {
      "cell_type": "markdown",
      "metadata": {},
      "source": "## Keyword Distribution by Emotions"
    },
    {
      "cell_type": "code",
      "execution_count": 15,
      "metadata": {
        "autoscroll": "auto"
      },
      "outputs": [],
      "source": "import org.apache.spark.sql.functions._\n\nval basePath \u003d \"/user/yc7093_nyu_edu/imdb_partitioned_by_emotion_rating_word\"\nval specificEmotion \u003d \"sadness\"\n\nval emotionDf \u003d spark.read.parquet(s\"$basePath/emotion\u003d$specificEmotion\")\n\nval keywordDistribution \u003d emotionDf.groupBy(\"word\")\n  .count()\n  .orderBy(desc(\"count\")) \n\n\n\nval rowCount \u003d keywordDistribution.count()\nkeywordDistribution.show(rowCount.toInt, truncate \u003d false)\n\n\n"
    },
    {
      "cell_type": "code",
      "execution_count": 16,
      "metadata": {
        "autoscroll": "auto"
      },
      "outputs": [],
      "source": "val outputPath \u003d s\"/user/yc7093_nyu_edu/imdb-emotion-analysis/$specificEmotion-keyword-distribution\"\n\nkeywordDistribution.coalesce(1)\n  .write\n  .mode(\"overwrite\")\n  .option(\"header\", \"true\")\n  .csv(outputPath)"
    },
    {
      "cell_type": "code",
      "execution_count": 17,
      "metadata": {
        "autoscroll": "auto"
      },
      "outputs": [],
      "source": "import org.apache.spark.sql.functions._\n\nval basePath \u003d \"/user/yc7093_nyu_edu/imdb_partitioned_by_emotion_rating_word\"\nval specificEmotion \u003d \"love\"\n\nval emotionDf \u003d spark.read.parquet(s\"$basePath/emotion\u003d$specificEmotion\")\n\nval keywordDistribution \u003d emotionDf.groupBy(\"word\")\n  .count() \n  .orderBy(desc(\"count\")) \n\n\nval rowCount \u003d keywordDistribution.count()\nkeywordDistribution.show(rowCount.toInt, truncate \u003d false)"
    },
    {
      "cell_type": "code",
      "execution_count": 18,
      "metadata": {
        "autoscroll": "auto"
      },
      "outputs": [],
      "source": "val outputPath \u003d s\"/user/yc7093_nyu_edu/imdb-emotion-analysis/$specificEmotion-keyword-distribution\"\n\nkeywordDistribution.coalesce(1)\n  .write\n  .mode(\"overwrite\")\n  .option(\"header\", \"true\")\n  .csv(outputPath)"
    },
    {
      "cell_type": "code",
      "execution_count": 19,
      "metadata": {
        "autoscroll": "auto"
      },
      "outputs": [],
      "source": "import org.apache.spark.sql.functions._\n\nval basePath \u003d \"/user/yc7093_nyu_edu/imdb_partitioned_by_emotion_rating_word\"\nval specificEmotion \u003d \"joy\"\n\nval emotionDf \u003d spark.read.parquet(s\"$basePath/emotion\u003d$specificEmotion\")\n\nval keywordDistribution \u003d emotionDf.groupBy(\"word\")\n  .count() \n  .orderBy(desc(\"count\")) \n\n\nval rowCount \u003d keywordDistribution.count()\nkeywordDistribution.show(rowCount.toInt, truncate \u003d false)"
    },
    {
      "cell_type": "code",
      "execution_count": 20,
      "metadata": {
        "autoscroll": "auto"
      },
      "outputs": [],
      "source": "val outputPath \u003d s\"/user/yc7093_nyu_edu/imdb-emotion-analysis/$specificEmotion-keyword-distribution\"\n\nkeywordDistribution.coalesce(1)\n  .write\n  .mode(\"overwrite\")\n  .option(\"header\", \"true\")\n  .csv(outputPath)"
    },
    {
      "cell_type": "code",
      "execution_count": 21,
      "metadata": {
        "autoscroll": "auto"
      },
      "outputs": [],
      "source": "import org.apache.spark.sql.functions._\n\nval basePath \u003d \"/user/yc7093_nyu_edu/imdb_partitioned_by_emotion_rating_word\"\nval specificEmotion \u003d \"surprise\"\n\nval emotionDf \u003d spark.read.parquet(s\"$basePath/emotion\u003d$specificEmotion\")\n\nval keywordDistribution \u003d emotionDf.groupBy(\"word\")\n  .count() \n  .orderBy(desc(\"count\")) \n\n\nval rowCount \u003d keywordDistribution.count()\nkeywordDistribution.show(rowCount.toInt, truncate \u003d false)"
    },
    {
      "cell_type": "code",
      "execution_count": 22,
      "metadata": {
        "autoscroll": "auto"
      },
      "outputs": [],
      "source": "val outputPath \u003d s\"/user/yc7093_nyu_edu/imdb-emotion-analysis/$specificEmotion-keyword-distribution\"\n\nkeywordDistribution.coalesce(1)\n  .write\n  .mode(\"overwrite\")\n  .option(\"header\", \"true\")\n  .csv(outputPath)"
    },
    {
      "cell_type": "code",
      "execution_count": 23,
      "metadata": {
        "autoscroll": "auto"
      },
      "outputs": [],
      "source": "import org.apache.spark.sql.functions._\n\nval basePath \u003d \"/user/yc7093_nyu_edu/imdb_partitioned_by_emotion_rating_word\"\nval specificEmotion \u003d \"anger\"\n\nval emotionDf \u003d spark.read.parquet(s\"$basePath/emotion\u003d$specificEmotion\")\n\nval keywordDistribution \u003d emotionDf.groupBy(\"word\")\n  .count()\n  .orderBy(desc(\"count\"))\n\n\n\nval rowCount \u003d keywordDistribution.count()\nkeywordDistribution.show(rowCount.toInt, truncate \u003d false)"
    },
    {
      "cell_type": "code",
      "execution_count": 24,
      "metadata": {
        "autoscroll": "auto"
      },
      "outputs": [],
      "source": "val outputPath \u003d s\"/user/yc7093_nyu_edu/imdb-emotion-analysis/$specificEmotion-keyword-distribution\"\n\nkeywordDistribution.coalesce(1)\n  .write\n  .mode(\"overwrite\")\n  .option(\"header\", \"true\")\n  .csv(outputPath)"
    },
    {
      "cell_type": "code",
      "execution_count": 25,
      "metadata": {
        "autoscroll": "auto"
      },
      "outputs": [],
      "source": "import org.apache.spark.sql.functions._\n\nval basePath \u003d \"/user/yc7093_nyu_edu/imdb_partitioned_by_emotion_rating_word\"\nval specificEmotion \u003d \"fear\"\n\nval emotionDf \u003d spark.read.parquet(s\"$basePath/emotion\u003d$specificEmotion\")\n\nval keywordDistribution \u003d emotionDf.groupBy(\"word\")\n  .count() // Count occurrences of each word within the emotion\n  .orderBy(desc(\"count\")) \n\n\nval rowCount \u003d keywordDistribution.count()\nkeywordDistribution.show(rowCount.toInt, truncate \u003d false)"
    },
    {
      "cell_type": "code",
      "execution_count": 26,
      "metadata": {
        "autoscroll": "auto"
      },
      "outputs": [],
      "source": "val outputPath \u003d s\"/user/yc7093_nyu_edu/imdb-emotion-analysis/$specificEmotion-keyword-distribution\"\n\nkeywordDistribution.coalesce(1)\n  .write\n  .mode(\"overwrite\")\n  .option(\"header\", \"true\")\n  .csv(outputPath)"
    },
    {
      "cell_type": "markdown",
      "metadata": {},
      "source": "## Rating Distribution Within Keywords"
    },
    {
      "cell_type": "code",
      "execution_count": 28,
      "metadata": {
        "autoscroll": "auto"
      },
      "outputs": [],
      "source": "import org.apache.spark.sql.functions._\n\nval basePath \u003d \"/user/yc7093_nyu_edu/imdb_partitioned_by_emotion_rating_word\"\n\nval partitionedDf \u003d spark.read.parquet(basePath)\n\nval ratingDistributionByKeyword \u003d partitionedDf.groupBy(\"word\", \"rating\")\n  .count() \n  .orderBy(\"word\", \"rating\") \n\nval pivotedDistribution \u003d ratingDistributionByKeyword.groupBy(\"word\")\n  .pivot(\"rating\") \n  .sum(\"count\")\n\npivotedDistribution.show(truncate \u003d false)\n"
    },
    {
      "cell_type": "code",
      "execution_count": 29,
      "metadata": {
        "autoscroll": "auto"
      },
      "outputs": [],
      "source": "val outputPath \u003d \"/user/yc7093_nyu_edu/imdb-emotion-analysis/rating-distribution-w-word\"\n\npivotedDistribution.coalesce(1)\n  .write\n  .mode(\"overwrite\")\n  .option(\"header\", \"true\")\n  .csv(outputPath)\n\n"
    }
  ]
}